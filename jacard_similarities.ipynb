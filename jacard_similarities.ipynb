{
  "nbformat": 4,
  "nbformat_minor": 0,
  "metadata": {
    "colab": {
      "name": "jacard similarities.ipynb",
      "provenance": [],
      "collapsed_sections": []
    },
    "kernelspec": {
      "name": "python3",
      "display_name": "Python 3"
    },
    "language_info": {
      "name": "python"
    }
  },
  "cells": [
    {
      "cell_type": "code",
      "metadata": {
        "colab": {
          "base_uri": "https://localhost:8080/"
        },
        "id": "bvQFWmMdRxZA",
        "outputId": "eaffa933-142e-48a2-a483-6f03ddf57331"
      },
      "source": [
        "import nltk\n",
        "from nltk.util import ngrams\n",
        "from nltk import jaccard_distance\n",
        "\n",
        "mistake = \"tapple\"\n",
        "\n",
        "words = ['apple', 'bag', 'drawing', 'listing', 'linking', 'living', 'lighting', 'orange', 'freely']\n",
        "\n",
        "distance = []\n",
        "\n",
        "for word in words:\n",
        "  jd = nltk.jaccard_distance(set(ngrams(mistake, n=3)), set(ngrams(word, n=3)))\n",
        "  distance.append((word, jd))\n",
        "\n",
        "distance = sorted(distance, key = lambda x : x[1])\n",
        "print( (mistake, distance[0][0]) )"
      ],
      "execution_count": 36,
      "outputs": [
        {
          "output_type": "stream",
          "name": "stdout",
          "text": [
            "('tapple', 'apple')\n"
          ]
        }
      ]
    },
    {
      "cell_type": "code",
      "metadata": {
        "colab": {
          "base_uri": "https://localhost:8080/"
        },
        "id": "oMDFYJdCvLDc",
        "outputId": "bc2aa056-a6a5-4a6a-fc33-6d8cfc7766d9"
      },
      "source": [
        "ngrams(mistake, n=3)\n"
      ],
      "execution_count": 34,
      "outputs": [
        {
          "output_type": "execute_result",
          "data": {
            "text/plain": [
              "<generator object ngrams at 0x7fe3b0304250>"
            ]
          },
          "metadata": {},
          "execution_count": 34
        }
      ]
    },
    {
      "cell_type": "code",
      "metadata": {
        "colab": {
          "base_uri": "https://localhost:8080/"
        },
        "id": "6ey1Uqsiyrla",
        "outputId": "e4f7a37a-21bf-4b03-fb5d-fa89c724d287"
      },
      "source": [
        "nltk.download('words')\n",
        "from nltk.corpus import words\n",
        "words = words.words()\n",
        "print(len(words))"
      ],
      "execution_count": 35,
      "outputs": [
        {
          "output_type": "stream",
          "name": "stdout",
          "text": [
            "[nltk_data] Downloading package words to /root/nltk_data...\n",
            "[nltk_data]   Package words is already up-to-date!\n",
            "236736\n"
          ]
        }
      ]
    },
    {
      "cell_type": "code",
      "metadata": {
        "id": "hUDOqj0xy9jC"
      },
      "source": [
        ""
      ],
      "execution_count": null,
      "outputs": []
    }
  ]
}