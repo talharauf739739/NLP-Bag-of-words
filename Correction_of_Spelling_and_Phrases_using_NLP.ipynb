{
  "nbformat": 4,
  "nbformat_minor": 0,
  "metadata": {
    "colab": {
      "provenance": []
    },
    "kernelspec": {
      "name": "python3",
      "display_name": "Python 3"
    },
    "language_info": {
      "name": "python"
    }
  },
  "cells": [
    {
      "cell_type": "markdown",
      "source": [
        "**Textblob is a NLP Based Library Here It is Used for Correction of Words AND Phrases**"
      ],
      "metadata": {
        "id": "YCyxcZA5RnO3"
      }
    },
    {
      "cell_type": "code",
      "source": [
        "import pandas as pd\n",
        "from textblob import TextBlob"
      ],
      "metadata": {
        "id": "9m5kNwDmRkxx"
      },
      "execution_count": null,
      "outputs": []
    },
    {
      "cell_type": "code",
      "source": [
        "\n",
        "# Read the Excel file\n",
        "\n",
        "data_frame = pd.read_excel('/content/Spelling_ko_thek_kro.xlsx')\n",
        "\n",
        "# Specify the column containing addresses\n",
        "address_column = 'address'\n",
        "\n"
      ],
      "metadata": {
        "id": "IpMFkIVmIitk"
      },
      "execution_count": 3,
      "outputs": []
    },
    {
      "cell_type": "code",
      "source": [
        "# Function to apply spell correction to an address\n",
        "def correct_address(address):\n",
        "    blob = TextBlob(address)\n",
        "    corrected_address = str(blob.correct())\n",
        "    return corrected_address\n",
        "\n"
      ],
      "metadata": {
        "id": "uMJ1MmJ_RVlz"
      },
      "execution_count": null,
      "outputs": []
    },
    {
      "cell_type": "code",
      "source": [
        "# Apply spell correction to addresses\n",
        "data_frame[address_column] = data_frame[address_column].apply(correct_address)\n",
        "\n",
        "\n"
      ],
      "metadata": {
        "id": "fOYz-EveRXyB"
      },
      "execution_count": null,
      "outputs": []
    },
    {
      "cell_type": "code",
      "source": [
        "# Save the corrected data back to the Excel file\n",
        "output_excel_file = 'corrected_data_0_1000.xlsx'\n",
        "data_frame.to_excel(output_excel_file, index=False)\n",
        "\n",
        "print(\"Spell correction completed and corrected data saved.\")"
      ],
      "metadata": {
        "id": "FX3M-zflRai6"
      },
      "execution_count": null,
      "outputs": []
    }
  ]
}