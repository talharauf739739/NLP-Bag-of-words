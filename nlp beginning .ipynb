{
 "cells": [
  {
   "cell_type": "code",
   "execution_count": 1,
   "metadata": {},
   "outputs": [],
   "source": [
    "import nltk"
   ]
  },
  {
   "cell_type": "code",
   "execution_count": 2,
   "metadata": {},
   "outputs": [
    {
     "name": "stderr",
     "output_type": "stream",
     "text": [
      "[nltk_data] Downloading package punkt to /Users/remo/nltk_data...\n",
      "[nltk_data]   Package punkt is already up-to-date!\n"
     ]
    },
    {
     "data": {
      "text/plain": [
       "True"
      ]
     },
     "execution_count": 2,
     "metadata": {},
     "output_type": "execute_result"
    }
   ],
   "source": [
    "nltk.download('punkt')"
   ]
  },
  {
   "cell_type": "code",
   "execution_count": 3,
   "metadata": {},
   "outputs": [
    {
     "name": "stderr",
     "output_type": "stream",
     "text": [
      "[nltk_data] Downloading package inaugural to /Users/remo/nltk_data...\n",
      "[nltk_data]   Package inaugural is already up-to-date!\n",
      "[nltk_data] Downloading package stopwords to /Users/remo/nltk_data...\n",
      "[nltk_data]   Package stopwords is already up-to-date!\n",
      "[nltk_data] Downloading package wordnet to /Users/remo/nltk_data...\n",
      "[nltk_data]   Package wordnet is already up-to-date!\n",
      "[nltk_data] Downloading package words to /Users/remo/nltk_data...\n",
      "[nltk_data]   Package words is already up-to-date!\n"
     ]
    },
    {
     "data": {
      "text/plain": [
       "True"
      ]
     },
     "execution_count": 3,
     "metadata": {},
     "output_type": "execute_result"
    }
   ],
   "source": [
    "nltk.download('inaugural')\n",
    "nltk.download('stopwords')\n",
    "nltk.download('wordnet')\n",
    "\n",
    "nltk.download('words')"
   ]
  },
  {
   "cell_type": "code",
   "execution_count": 4,
   "metadata": {},
   "outputs": [
    {
     "name": "stderr",
     "output_type": "stream",
     "text": [
      "[nltk_data] Downloading package averaged_perceptron_tagger to\n",
      "[nltk_data]     /Users/remo/nltk_data...\n",
      "[nltk_data]   Package averaged_perceptron_tagger is already up-to-\n",
      "[nltk_data]       date!\n"
     ]
    },
    {
     "data": {
      "text/plain": [
       "True"
      ]
     },
     "execution_count": 4,
     "metadata": {},
     "output_type": "execute_result"
    }
   ],
   "source": [
    "nltk.download('averaged_perceptron_tagger')"
   ]
  },
  {
   "cell_type": "code",
   "execution_count": 5,
   "metadata": {},
   "outputs": [
    {
     "data": {
      "text/plain": [
       "['2013-Obama.txt', '2017-Trump.txt']"
      ]
     },
     "execution_count": 5,
     "metadata": {},
     "output_type": "execute_result"
    }
   ],
   "source": [
    "from nltk.corpus import inaugural\n",
    "inaugural.fileids()[56:58]\n",
    "\n",
    "#len(inaugural.fileids())"
   ]
  },
  {
   "cell_type": "code",
   "execution_count": 6,
   "metadata": {},
   "outputs": [
    {
     "name": "stdout",
     "output_type": "stream",
     "text": [
      "2017\n"
     ]
    }
   ],
   "source": [
    "years = [fileid[:4] for fileid in inaugural.fileids()]\n",
    "\n",
    "print(years[-1])"
   ]
  },
  {
   "cell_type": "code",
   "execution_count": 7,
   "metadata": {},
   "outputs": [],
   "source": [
    "washington_raw = inaugural.raw('1789-Washington.txt')\n",
    "lincoln_raw = inaugural.raw('1861-Lincoln.txt')\n",
    "obama_raw = inaugural.raw('2009-Obama.txt')\n",
    "trump_raw = inaugural.raw('2017-Trump.txt')\n"
   ]
  },
  {
   "cell_type": "code",
   "execution_count": 8,
   "metadata": {},
   "outputs": [
    {
     "data": {
      "text/plain": [
       "'Together, we will determine the course of America and the world for many, many years to come.'"
      ]
     },
     "execution_count": 8,
     "metadata": {},
     "output_type": "execute_result"
    }
   ],
   "source": [
    "from nltk.tokenize import sent_tokenize, word_tokenize\n",
    "\n",
    "sent_tokenize(trump_raw)[2]"
   ]
  },
  {
   "cell_type": "code",
   "execution_count": 9,
   "metadata": {},
   "outputs": [
    {
     "name": "stdout",
     "output_type": "stream",
     "text": [
      "Chief Justice Roberts, President Carter, President Clinton, President Bush, President Obama, fellow Americans, and people of the world: Thank you.\n"
     ]
    }
   ],
   "source": [
    "print(sent_tokenize(trump_raw)[0])"
   ]
  },
  {
   "cell_type": "code",
   "execution_count": 10,
   "metadata": {},
   "outputs": [],
   "source": [
    "u=word_tokenize(sent_tokenize(trump_raw)[0])"
   ]
  },
  {
   "cell_type": "code",
   "execution_count": 11,
   "metadata": {},
   "outputs": [
    {
     "data": {
      "text/plain": [
       "1679"
      ]
     },
     "execution_count": 11,
     "metadata": {},
     "output_type": "execute_result"
    }
   ],
   "source": [
    "len(word_tokenize(trump_raw))"
   ]
  },
  {
   "cell_type": "code",
   "execution_count": 12,
   "metadata": {},
   "outputs": [
    {
     "name": "stdout",
     "output_type": "stream",
     "text": [
      "🐭🐱🐶 🤪😂😁 {'he', 'or', 'theirs', 'his', 'a', 'against', 'needn', 'but', 'herself', 'just', 'won', 'my', 'it', 'there', \"you're\", 'hadn', \"aren't\", 'isn', 'mightn', 'so', 'under', 'same', \"haven't\", 'for', 'too', \"isn't\", 'to', \"shan't\", 'she', 'out', 'ours', 'into', \"won't\", 'itself', 'mustn', 'o', 'themselves', 'with', 'had', 'ain', 'ma', 'above', 'only', 'not', 'that', 'its', 'than', 'has', \"you've\", \"don't\", 'at', 'once', \"that'll\", 'whom', 'more', 'of', 'been', 'aren', \"weren't\", 'weren', 'wasn', 'because', 'wouldn', 'your', 's', 'll', 'each', 'in', 'from', 'nor', 're', 'shouldn', \"you'll\", 'again', 'before', \"mightn't\", 'their', \"it's\", 'haven', \"hasn't\", \"mustn't\", 'and', 'me', 'these', 'this', 'does', 'such', 'her', 't', 'both', 'you', 'below', 'our', 'an', 'through', 'are', 'y', 'while', 'very', 'we', 'was', 'few', 'between', 'yourself', 'where', 'down', 'about', \"doesn't\", \"wasn't\", 'were', 'him', 'on', 'by', 'who', 'am', 'as', 'here', 'which', 'now', 'hers', 'when', 'couldn', 'why', 'yours', 'hasn', 'all', 'them', 'some', \"she's\", 'be', 'no', 'after', 'the', 'd', 'should', \"shouldn't\", 'm', 'is', \"couldn't\", 'don', \"hadn't\", 'what', 'did', 'if', 'have', 'during', 'up', \"didn't\", 'other', 'how', \"you'd\", 'will', 'ourselves', 'further', 'didn', 'doesn', 'those', 'do', 'over', 'yourselves', 'shan', 'can', 'myself', 'until', 'any', 'own', \"should've\", 'they', 'then', 'i', 'off', 'himself', \"needn't\", 'doing', 'being', \"wouldn't\", 've', 'having', 'most'}\n"
     ]
    }
   ],
   "source": [
    "from nltk.corpus import stopwords\n",
    "print('🐭🐱🐶','🤪😂😁',set(stopwords.words('english')))\n",
    "stop_words = stopwords.words('english')\n"
   ]
  },
  {
   "cell_type": "code",
   "execution_count": 13,
   "metadata": {},
   "outputs": [],
   "source": [
    "   def count_words(x):\n",
    "     y =len(word_tokenize(x))\n",
    "     return (y)\n",
    "        "
   ]
  },
  {
   "cell_type": "code",
   "execution_count": 14,
   "metadata": {},
   "outputs": [
    {
     "data": {
      "text/plain": [
       "1679"
      ]
     },
     "execution_count": 14,
     "metadata": {},
     "output_type": "execute_result"
    }
   ],
   "source": [
    "count_words(trump_raw)\n"
   ]
  },
  {
   "cell_type": "code",
   "execution_count": 15,
   "metadata": {},
   "outputs": [],
   "source": [
    "def remove_stopwords(raw_text):\n",
    "    stopRemoved=[]\n",
    "    for sentence in sent_tokenize(raw_text):\n",
    "        filtered=[]\n",
    "        for word in word_tokenize(sentence):\n",
    "            if word not in stop_words:\n",
    "                filtered.append(word)\n",
    "        stopRemoved.append(filtered)\n",
    "    _sentences=[]\n",
    "    for w in stopRemoved:\n",
    "        _sentences.append(' '.join(w))\n",
    "        \n",
    "        \n",
    "    _text=' '.join(_sentences)\n",
    "    return _text\n",
    "        "
   ]
  },
  {
   "cell_type": "code",
   "execution_count": 16,
   "metadata": {},
   "outputs": [
    {
     "data": {
      "text/plain": [
       "\"Chief Justice Roberts , President Carter , President Clinton , President Bush , President Obama , fellow Americans , people world : Thank . We , citizens America , joined great national effort rebuild country restore promise people . Together , determine course America world many , many years come . We face challenges , confront hardships , get job done . Every 4 years , gather steps carry orderly peaceful transfer power , grateful President Obama First Lady Michelle Obama gracious aid throughout transition . They magnificent . Thank . Today 's ceremony , however , special meaning . Because today merely transferring power one administration another one party another , transferring power Washington , DC , giving back , people . For long , small group Nation 's Capital reaped rewards Government people borne cost . Washington flourished , people share wealth . Politicians prospered , jobs left , factories closed . The establishment protected , citizens country . Their victories victories ; triumphs triumphs ; celebrated Nation 's Capital , little celebrate struggling families across land . That changes , starting right right , moment moment : It belongs . It belongs everyone gathered today everyone watching across America . This day . This celebration . And , United States America , country . What truly matters party controls Government , whether Government controlled people . January 20 , 2017 , remembered day people became rulers Nation . The forgotten men women country forgotten longer . Everyone listening . You came tens millions become part historic movement likes world never seen . At center movement crucial conviction : nation exists serve citizens . Americans want great schools children , safe neighborhoods families , good jobs . These reasonable demands righteous people righteous public . But many citizens , different reality exists : Mothers children trapped poverty inner cities ; rusted-out factories scattered like tombstones across landscape Nation ; education system , flush cash , leaves young beautiful students deprived knowledge ; crime gangs drugs stolen many lives robbed country much unrealized potential . This American carnage stops right stops right . We one Nation , pain pain , dreams dreams , success success . We share one heart , one home , one glorious destiny . The oath office I take today oath allegiance Americans . For many decades , 've enriched foreign industry expense American industry , subsidized armies countries allowing sad depletion military . We 've defended nations ' borders refusing defend spent trillions trillions dollars overseas America 's infrastructure fallen disrepair decay . We 've made countries rich wealth , strength , confidence country dissipated horizon . One one , factories shuttered left shores , even thought millions millions American workers left behind . The wealth middle class ripped homes redistributed across world . But past . And looking future . We , assembled today , issuing new decree heard every city , every foreign capital , every hall power . From day forward , new vision govern land . From day forward , 's going America first . America first . Every decision trade , taxes , immigration , foreign affairs , made benefit American workers American families . We must protect borders ravages countries making products , stealing companies , destroying jobs . Protection lead great prosperity strength . I fight every breath body , I never , ever let . America start winning , winning like never . We bring back jobs . We bring back borders . We bring back wealth . And bring back dreams . We build new roads highways bridges airports tunnels railways across wonderful Nation . We get people welfare back work , rebuilding country American hands American labor . We follow two simple rules : Buy American hire American . We seek friendship good nations world , understanding right nations put interests first . We seek impose way life anyone , rather let shine exampleâ\\x80\\x94we shineâ\\x80\\x94for everyone follow . We reinforce old alliances form new ones unite civilized world radical Islamic terrorism , eradicate completely face Earth . At bedrock politics total allegiance United States America , loyalty country , rediscover loyalty . When open heart patriotism , room prejudice . The Bible tells us , `` How good pleasant God 's people live together unity . '' We must speak minds openly , debate disagreements honestly , always pursue solidarity . When America united , America totally unstoppable . There fear : We protected , always protected . We protected great men women military law enforcement , importantly , protected God . Finally , must think big dream even bigger . In America , understand nation living long striving . We longer accept politicians talk action , constantly complaining , never anything . The time empty talk . Now arrives hour action . Do allow anyone tell done . No challenge match heart fight spirit America . We fail . Our country thrive prosper . We stand birth new millennium , ready unlock mysteries space , free Earth miseries disease , harness energies , industries , technologies tomorrow . A new national pride stir souls , lift sights , heal divisions . It 's time remember old wisdom soldiers never forget : whether Black Brown White , bleed red blood patriots , enjoy glorious freedoms , salute great American flag . And whether child born urban sprawl Detroit windswept plains Nebraska , look night sky , fill heart dreams , infused breath life almighty Creator . So Americans every city near far , small large , mountain mountain , ocean ocean , hear words : You never ignored . Your voice , hopes , dreams define American destiny . And courage goodness love forever guide us along way . Together , make America strong . We make America wealthy . We make America proud . We make America safe . And , yes , together , make America great . Thank . God bless , God bless America . Thank . God bless America .\""
      ]
     },
     "execution_count": 16,
     "metadata": {},
     "output_type": "execute_result"
    }
   ],
   "source": [
    "a = remove_stopwords(trump_raw)\n",
    "a"
   ]
  },
  {
   "cell_type": "code",
   "execution_count": 17,
   "metadata": {},
   "outputs": [
    {
     "data": {
      "text/plain": [
       "1011"
      ]
     },
     "execution_count": 17,
     "metadata": {},
     "output_type": "execute_result"
    }
   ],
   "source": [
    "len(word_tokenize(a))"
   ]
  },
  {
   "cell_type": "code",
   "execution_count": 18,
   "metadata": {},
   "outputs": [
    {
     "name": "stdout",
     "output_type": "stream",
     "text": [
      "['Chief Justice Roberts , President Carter , President Clinton , President Bush , President Obama , fellow Americans , people world : Thank .', 'We , citizens America , joined great national effort rebuild country restore promise people .', 'Together , determine course America world many , many years come .', 'We face challenges , confront hardships , get job done .', 'Every 4 years , gather steps carry orderly peaceful transfer power , grateful President Obama First Lady Michelle Obama gracious aid throughout transition .']\n"
     ]
    }
   ],
   "source": [
    "print(sent_tokenize(a)[0:5])"
   ]
  },
  {
   "cell_type": "code",
   "execution_count": 19,
   "metadata": {},
   "outputs": [
    {
     "name": "stdout",
     "output_type": "stream",
     "text": [
      "['Chief Justice Roberts, President Carter, President Clinton, President Bush, President Obama, fellow Americans, and people of the world: Thank you.', 'We, the citizens of America, are now joined in a great national effort to rebuild our country and restore its promise for all of our people.', 'Together, we will determine the course of America and the world for many, many years to come.', 'We will face challenges, we will confront hardships, but we will get the job done.', 'Every 4 years, we gather on these steps to carry out the orderly and peaceful transfer of power, and we are grateful to President Obama and First Lady Michelle Obama for their gracious aid throughout this transition.']\n"
     ]
    }
   ],
   "source": [
    "print(sent_tokenize(trump_raw)[0:5])"
   ]
  },
  {
   "cell_type": "code",
   "execution_count": 20,
   "metadata": {},
   "outputs": [],
   "source": [
    "def unique_words(x):\n",
    "    r=len(set(word_tokenize(x)))\n",
    "    return r"
   ]
  },
  {
   "cell_type": "code",
   "execution_count": 21,
   "metadata": {},
   "outputs": [
    {
     "data": {
      "text/plain": [
       "579"
      ]
     },
     "execution_count": 21,
     "metadata": {},
     "output_type": "execute_result"
    }
   ],
   "source": [
    "unique_words(trump_raw)"
   ]
  },
  {
   "cell_type": "code",
   "execution_count": 22,
   "metadata": {},
   "outputs": [],
   "source": [
    "def stop_unique(x):\n",
    "    t = remove_stopwords(x)\n",
    "    w = len(set(word_tokenize(t)))\n",
    "    return w"
   ]
  },
  {
   "cell_type": "code",
   "execution_count": 23,
   "metadata": {},
   "outputs": [
    {
     "data": {
      "text/plain": [
       "501"
      ]
     },
     "execution_count": 23,
     "metadata": {},
     "output_type": "execute_result"
    }
   ],
   "source": [
    "stop_unique(trump_raw)"
   ]
  },
  {
   "cell_type": "code",
   "execution_count": 24,
   "metadata": {},
   "outputs": [
    {
     "data": {
      "text/plain": [
       "[('Chief', 'JJ'),\n",
       " ('Justice', 'NNP'),\n",
       " ('Roberts', 'NNP'),\n",
       " (',', ','),\n",
       " ('President', 'NNP'),\n",
       " ('Carter', 'NNP'),\n",
       " (',', ','),\n",
       " ('President', 'NNP'),\n",
       " ('Clinton', 'NNP'),\n",
       " (',', ','),\n",
       " ('President', 'NNP'),\n",
       " ('Bush', 'NNP'),\n",
       " (',', ','),\n",
       " ('President', 'NNP'),\n",
       " ('Obama', 'NNP'),\n",
       " (',', ','),\n",
       " ('fellow', 'JJ'),\n",
       " ('Americans', 'NNPS'),\n",
       " (',', ','),\n",
       " ('people', 'NNS'),\n",
       " ('world', 'NN'),\n",
       " (':', ':'),\n",
       " ('Thank', 'NN'),\n",
       " ('.', '.'),\n",
       " ('We', 'PRP'),\n",
       " (',', ','),\n",
       " ('citizens', 'NNS'),\n",
       " ('America', 'NNP'),\n",
       " (',', ','),\n",
       " ('joined', 'VBD'),\n",
       " ('great', 'JJ'),\n",
       " ('national', 'JJ'),\n",
       " ('effort', 'NN'),\n",
       " ('rebuild', 'JJ'),\n",
       " ('country', 'NN'),\n",
       " ('restore', 'VBD'),\n",
       " ('promise', 'JJ'),\n",
       " ('people', 'NNS'),\n",
       " ('.', '.'),\n",
       " ('Together', 'RB'),\n",
       " (',', ','),\n",
       " ('determine', 'VB'),\n",
       " ('course', 'NN'),\n",
       " ('America', 'NNP'),\n",
       " ('world', 'NN'),\n",
       " ('many', 'JJ'),\n",
       " (',', ','),\n",
       " ('many', 'JJ'),\n",
       " ('years', 'NNS'),\n",
       " ('come', 'VBP'),\n",
       " ('.', '.'),\n",
       " ('We', 'PRP'),\n",
       " ('face', 'VBP'),\n",
       " ('challenges', 'NNS'),\n",
       " (',', ','),\n",
       " ('confront', 'JJ'),\n",
       " ('hardships', 'NNS'),\n",
       " (',', ','),\n",
       " ('get', 'VB'),\n",
       " ('job', 'NN'),\n",
       " ('done', 'VBN'),\n",
       " ('.', '.'),\n",
       " ('Every', 'DT'),\n",
       " ('4', 'CD'),\n",
       " ('years', 'NNS'),\n",
       " (',', ','),\n",
       " ('gather', 'RB'),\n",
       " ('steps', 'NNS'),\n",
       " ('carry', 'VBP'),\n",
       " ('orderly', 'RB'),\n",
       " ('peaceful', 'JJ'),\n",
       " ('transfer', 'NN'),\n",
       " ('power', 'NN'),\n",
       " (',', ','),\n",
       " ('grateful', 'JJ'),\n",
       " ('President', 'NNP'),\n",
       " ('Obama', 'NNP'),\n",
       " ('First', 'NNP'),\n",
       " ('Lady', 'NNP'),\n",
       " ('Michelle', 'NNP'),\n",
       " ('Obama', 'NNP'),\n",
       " ('gracious', 'JJ'),\n",
       " ('aid', 'NN'),\n",
       " ('throughout', 'IN'),\n",
       " ('transition', 'NN'),\n",
       " ('.', '.'),\n",
       " ('They', 'PRP'),\n",
       " ('magnificent', 'VBP'),\n",
       " ('.', '.'),\n",
       " ('Thank', 'NNP'),\n",
       " ('.', '.'),\n",
       " ('Today', 'NN'),\n",
       " (\"'s\", 'POS'),\n",
       " ('ceremony', 'NN'),\n",
       " (',', ','),\n",
       " ('however', 'RB'),\n",
       " (',', ','),\n",
       " ('special', 'JJ'),\n",
       " ('meaning', 'NN'),\n",
       " ('.', '.'),\n",
       " ('Because', 'IN'),\n",
       " ('today', 'NN'),\n",
       " ('merely', 'RB'),\n",
       " ('transferring', 'VBG'),\n",
       " ('power', 'NN'),\n",
       " ('one', 'CD'),\n",
       " ('administration', 'NN'),\n",
       " ('another', 'DT'),\n",
       " ('one', 'CD'),\n",
       " ('party', 'NN'),\n",
       " ('another', 'DT'),\n",
       " (',', ','),\n",
       " ('transferring', 'VBG'),\n",
       " ('power', 'NN'),\n",
       " ('Washington', 'NNP'),\n",
       " (',', ','),\n",
       " ('DC', 'NNP'),\n",
       " (',', ','),\n",
       " ('giving', 'VBG'),\n",
       " ('back', 'RP'),\n",
       " (',', ','),\n",
       " ('people', 'NNS'),\n",
       " ('.', '.'),\n",
       " ('For', 'IN'),\n",
       " ('long', 'RB'),\n",
       " (',', ','),\n",
       " ('small', 'JJ'),\n",
       " ('group', 'NN'),\n",
       " ('Nation', 'NNP'),\n",
       " (\"'s\", 'POS'),\n",
       " ('Capital', 'NNP'),\n",
       " ('reaped', 'VBD'),\n",
       " ('rewards', 'NNS'),\n",
       " ('Government', 'NNP'),\n",
       " ('people', 'NNS'),\n",
       " ('borne', 'VBP'),\n",
       " ('cost', 'NN'),\n",
       " ('.', '.'),\n",
       " ('Washington', 'NNP'),\n",
       " ('flourished', 'VBD'),\n",
       " (',', ','),\n",
       " ('people', 'NNS'),\n",
       " ('share', 'NN'),\n",
       " ('wealth', 'NN'),\n",
       " ('.', '.'),\n",
       " ('Politicians', 'NNPS'),\n",
       " ('prospered', 'VBD'),\n",
       " (',', ','),\n",
       " ('jobs', 'NNS'),\n",
       " ('left', 'VBD'),\n",
       " (',', ','),\n",
       " ('factories', 'NNS'),\n",
       " ('closed', 'VBD'),\n",
       " ('.', '.'),\n",
       " ('The', 'DT'),\n",
       " ('establishment', 'NN'),\n",
       " ('protected', 'VBD'),\n",
       " (',', ','),\n",
       " ('citizens', 'NNS'),\n",
       " ('country', 'NN'),\n",
       " ('.', '.'),\n",
       " ('Their', 'PRP$'),\n",
       " ('victories', 'NNS'),\n",
       " ('victories', 'NNS'),\n",
       " (';', ':'),\n",
       " ('triumphs', 'CC'),\n",
       " ('triumphs', 'NN'),\n",
       " (';', ':'),\n",
       " ('celebrated', 'VBN'),\n",
       " ('Nation', 'NNP'),\n",
       " (\"'s\", 'POS'),\n",
       " ('Capital', 'NNP'),\n",
       " (',', ','),\n",
       " ('little', 'JJ'),\n",
       " ('celebrate', 'NN'),\n",
       " ('struggling', 'VBG'),\n",
       " ('families', 'NNS'),\n",
       " ('across', 'IN'),\n",
       " ('land', 'NN'),\n",
       " ('.', '.'),\n",
       " ('That', 'DT'),\n",
       " ('changes', 'NNS'),\n",
       " (',', ','),\n",
       " ('starting', 'VBG'),\n",
       " ('right', 'RB'),\n",
       " ('right', 'RB'),\n",
       " (',', ','),\n",
       " ('moment', 'NN'),\n",
       " ('moment', 'NN'),\n",
       " (':', ':'),\n",
       " ('It', 'PRP'),\n",
       " ('belongs', 'VBZ'),\n",
       " ('.', '.'),\n",
       " ('It', 'PRP'),\n",
       " ('belongs', 'VBZ'),\n",
       " ('everyone', 'NN'),\n",
       " ('gathered', 'VBN'),\n",
       " ('today', 'NN'),\n",
       " ('everyone', 'NN'),\n",
       " ('watching', 'VBG'),\n",
       " ('across', 'IN'),\n",
       " ('America', 'NNP'),\n",
       " ('.', '.'),\n",
       " ('This', 'DT'),\n",
       " ('day', 'NN'),\n",
       " ('.', '.'),\n",
       " ('This', 'DT'),\n",
       " ('celebration', 'NN'),\n",
       " ('.', '.'),\n",
       " ('And', 'CC'),\n",
       " (',', ','),\n",
       " ('United', 'NNP'),\n",
       " ('States', 'NNPS'),\n",
       " ('America', 'NNP'),\n",
       " (',', ','),\n",
       " ('country', 'NN'),\n",
       " ('.', '.'),\n",
       " ('What', 'WP'),\n",
       " ('truly', 'VBD'),\n",
       " ('matters', 'NNS'),\n",
       " ('party', 'NN'),\n",
       " ('controls', 'JJ'),\n",
       " ('Government', 'NNP'),\n",
       " (',', ','),\n",
       " ('whether', 'IN'),\n",
       " ('Government', 'NNP'),\n",
       " ('controlled', 'VBD'),\n",
       " ('people', 'NNS'),\n",
       " ('.', '.'),\n",
       " ('January', 'NNP'),\n",
       " ('20', 'CD'),\n",
       " (',', ','),\n",
       " ('2017', 'CD'),\n",
       " (',', ','),\n",
       " ('remembered', 'VBD'),\n",
       " ('day', 'NN'),\n",
       " ('people', 'NNS'),\n",
       " ('became', 'VBD'),\n",
       " ('rulers', 'NNS'),\n",
       " ('Nation', 'NNP'),\n",
       " ('.', '.'),\n",
       " ('The', 'DT'),\n",
       " ('forgotten', 'JJ'),\n",
       " ('men', 'NNS'),\n",
       " ('women', 'NNS'),\n",
       " ('country', 'NN'),\n",
       " ('forgotten', 'RB'),\n",
       " ('longer', 'RBR'),\n",
       " ('.', '.'),\n",
       " ('Everyone', 'CD'),\n",
       " ('listening', 'VBG'),\n",
       " ('.', '.'),\n",
       " ('You', 'PRP'),\n",
       " ('came', 'VBD'),\n",
       " ('tens', 'NNS'),\n",
       " ('millions', 'NNS'),\n",
       " ('become', 'VBP'),\n",
       " ('part', 'NN'),\n",
       " ('historic', 'JJ'),\n",
       " ('movement', 'NN'),\n",
       " ('likes', 'VBZ'),\n",
       " ('world', 'NN'),\n",
       " ('never', 'RB'),\n",
       " ('seen', 'VBN'),\n",
       " ('.', '.'),\n",
       " ('At', 'IN'),\n",
       " ('center', 'JJ'),\n",
       " ('movement', 'NN'),\n",
       " ('crucial', 'JJ'),\n",
       " ('conviction', 'NN'),\n",
       " (':', ':'),\n",
       " ('nation', 'NN'),\n",
       " ('exists', 'VBZ'),\n",
       " ('serve', 'VBP'),\n",
       " ('citizens', 'NNS'),\n",
       " ('.', '.'),\n",
       " ('Americans', 'NNPS'),\n",
       " ('want', 'VBP'),\n",
       " ('great', 'JJ'),\n",
       " ('schools', 'NNS'),\n",
       " ('children', 'NNS'),\n",
       " (',', ','),\n",
       " ('safe', 'JJ'),\n",
       " ('neighborhoods', 'NNS'),\n",
       " ('families', 'NNS'),\n",
       " (',', ','),\n",
       " ('good', 'JJ'),\n",
       " ('jobs', 'NNS'),\n",
       " ('.', '.'),\n",
       " ('These', 'DT'),\n",
       " ('reasonable', 'JJ'),\n",
       " ('demands', 'NNS'),\n",
       " ('righteous', 'JJ'),\n",
       " ('people', 'NNS'),\n",
       " ('righteous', 'JJ'),\n",
       " ('public', 'JJ'),\n",
       " ('.', '.'),\n",
       " ('But', 'CC'),\n",
       " ('many', 'JJ'),\n",
       " ('citizens', 'NNS'),\n",
       " (',', ','),\n",
       " ('different', 'JJ'),\n",
       " ('reality', 'NN'),\n",
       " ('exists', 'NNS'),\n",
       " (':', ':'),\n",
       " ('Mothers', 'NNS'),\n",
       " ('children', 'NNS'),\n",
       " ('trapped', 'VBD'),\n",
       " ('poverty', 'NN'),\n",
       " ('inner', 'NN'),\n",
       " ('cities', 'NNS'),\n",
       " (';', ':'),\n",
       " ('rusted-out', 'JJ'),\n",
       " ('factories', 'NNS'),\n",
       " ('scattered', 'VBN'),\n",
       " ('like', 'IN'),\n",
       " ('tombstones', 'NNS'),\n",
       " ('across', 'IN'),\n",
       " ('landscape', 'NN'),\n",
       " ('Nation', 'NN'),\n",
       " (';', ':'),\n",
       " ('education', 'NN'),\n",
       " ('system', 'NN'),\n",
       " (',', ','),\n",
       " ('flush', 'JJ'),\n",
       " ('cash', 'NN'),\n",
       " (',', ','),\n",
       " ('leaves', 'VBZ'),\n",
       " ('young', 'JJ'),\n",
       " ('beautiful', 'JJ'),\n",
       " ('students', 'NNS'),\n",
       " ('deprived', 'VBD'),\n",
       " ('knowledge', 'NN'),\n",
       " (';', ':'),\n",
       " ('crime', 'NN'),\n",
       " ('gangs', 'NNS'),\n",
       " ('drugs', 'NNS'),\n",
       " ('stolen', 'VBP'),\n",
       " ('many', 'JJ'),\n",
       " ('lives', 'NNS'),\n",
       " ('robbed', 'VBD'),\n",
       " ('country', 'NN'),\n",
       " ('much', 'RB'),\n",
       " ('unrealized', 'JJ'),\n",
       " ('potential', 'NN'),\n",
       " ('.', '.'),\n",
       " ('This', 'DT'),\n",
       " ('American', 'JJ'),\n",
       " ('carnage', 'NN'),\n",
       " ('stops', 'NNS'),\n",
       " ('right', 'RB'),\n",
       " ('stops', 'RB'),\n",
       " ('right', 'RB'),\n",
       " ('.', '.'),\n",
       " ('We', 'PRP'),\n",
       " ('one', 'CD'),\n",
       " ('Nation', 'NN'),\n",
       " (',', ','),\n",
       " ('pain', 'NN'),\n",
       " ('pain', 'NN'),\n",
       " (',', ','),\n",
       " ('dreams', 'JJ'),\n",
       " ('dreams', 'NNS'),\n",
       " (',', ','),\n",
       " ('success', 'NN'),\n",
       " ('success', 'NN'),\n",
       " ('.', '.'),\n",
       " ('We', 'PRP'),\n",
       " ('share', 'NN'),\n",
       " ('one', 'CD'),\n",
       " ('heart', 'NN'),\n",
       " (',', ','),\n",
       " ('one', 'CD'),\n",
       " ('home', 'NN'),\n",
       " (',', ','),\n",
       " ('one', 'CD'),\n",
       " ('glorious', 'JJ'),\n",
       " ('destiny', 'NN'),\n",
       " ('.', '.'),\n",
       " ('The', 'DT'),\n",
       " ('oath', 'JJ'),\n",
       " ('office', 'NN'),\n",
       " ('I', 'PRP'),\n",
       " ('take', 'VBP'),\n",
       " ('today', 'NN'),\n",
       " ('oath', 'IN'),\n",
       " ('allegiance', 'NN'),\n",
       " ('Americans', 'NNPS'),\n",
       " ('.', '.'),\n",
       " ('For', 'IN'),\n",
       " ('many', 'JJ'),\n",
       " ('decades', 'NNS'),\n",
       " (',', ','),\n",
       " (\"'ve\", 'VBP'),\n",
       " ('enriched', 'VBN'),\n",
       " ('foreign', 'JJ'),\n",
       " ('industry', 'NN'),\n",
       " ('expense', 'JJ'),\n",
       " ('American', 'JJ'),\n",
       " ('industry', 'NN'),\n",
       " (',', ','),\n",
       " ('subsidized', 'JJ'),\n",
       " ('armies', 'NNS'),\n",
       " ('countries', 'NNS'),\n",
       " ('allowing', 'VBG'),\n",
       " ('sad', 'JJ'),\n",
       " ('depletion', 'NN'),\n",
       " ('military', 'JJ'),\n",
       " ('.', '.'),\n",
       " ('We', 'PRP'),\n",
       " (\"'ve\", 'VBP'),\n",
       " ('defended', 'VBN'),\n",
       " ('nations', 'NNS'),\n",
       " (\"'\", 'POS'),\n",
       " ('borders', 'NNS'),\n",
       " ('refusing', 'VBG'),\n",
       " ('defend', 'JJ'),\n",
       " ('spent', 'JJ'),\n",
       " ('trillions', 'NNS'),\n",
       " ('trillions', 'NNS'),\n",
       " ('dollars', 'NNS'),\n",
       " ('overseas', 'RB'),\n",
       " ('America', 'NNP'),\n",
       " (\"'s\", 'POS'),\n",
       " ('infrastructure', 'NN'),\n",
       " ('fallen', 'VBN'),\n",
       " ('disrepair', 'NN'),\n",
       " ('decay', 'NN'),\n",
       " ('.', '.'),\n",
       " ('We', 'PRP'),\n",
       " (\"'ve\", 'VBP'),\n",
       " ('made', 'VBN'),\n",
       " ('countries', 'NNS'),\n",
       " ('rich', 'JJ'),\n",
       " ('wealth', 'NN'),\n",
       " (',', ','),\n",
       " ('strength', 'NN'),\n",
       " (',', ','),\n",
       " ('confidence', 'NN'),\n",
       " ('country', 'NN'),\n",
       " ('dissipated', 'VBD'),\n",
       " ('horizon', 'NN'),\n",
       " ('.', '.'),\n",
       " ('One', 'CD'),\n",
       " ('one', 'CD'),\n",
       " (',', ','),\n",
       " ('factories', 'NNS'),\n",
       " ('shuttered', 'VBD'),\n",
       " ('left', 'JJ'),\n",
       " ('shores', 'NNS'),\n",
       " (',', ','),\n",
       " ('even', 'RB'),\n",
       " ('thought', 'VBD'),\n",
       " ('millions', 'NNS'),\n",
       " ('millions', 'NNS'),\n",
       " ('American', 'JJ'),\n",
       " ('workers', 'NNS'),\n",
       " ('left', 'VBD'),\n",
       " ('behind', 'RP'),\n",
       " ('.', '.'),\n",
       " ('The', 'DT'),\n",
       " ('wealth', 'NN'),\n",
       " ('middle', 'JJ'),\n",
       " ('class', 'NN'),\n",
       " ('ripped', 'VBD'),\n",
       " ('homes', 'NNS'),\n",
       " ('redistributed', 'VBN'),\n",
       " ('across', 'IN'),\n",
       " ('world', 'NN'),\n",
       " ('.', '.'),\n",
       " ('But', 'CC'),\n",
       " ('past', 'JJ'),\n",
       " ('.', '.'),\n",
       " ('And', 'CC'),\n",
       " ('looking', 'VBG'),\n",
       " ('future', 'JJ'),\n",
       " ('.', '.'),\n",
       " ('We', 'PRP'),\n",
       " (',', ','),\n",
       " ('assembled', 'VBD'),\n",
       " ('today', 'NN'),\n",
       " (',', ','),\n",
       " ('issuing', 'VBG'),\n",
       " ('new', 'JJ'),\n",
       " ('decree', 'JJ'),\n",
       " ('heard', 'NN'),\n",
       " ('every', 'DT'),\n",
       " ('city', 'NN'),\n",
       " (',', ','),\n",
       " ('every', 'DT'),\n",
       " ('foreign', 'JJ'),\n",
       " ('capital', 'NN'),\n",
       " (',', ','),\n",
       " ('every', 'DT'),\n",
       " ('hall', 'NN'),\n",
       " ('power', 'NN'),\n",
       " ('.', '.'),\n",
       " ('From', 'IN'),\n",
       " ('day', 'NN'),\n",
       " ('forward', 'RB'),\n",
       " (',', ','),\n",
       " ('new', 'JJ'),\n",
       " ('vision', 'NN'),\n",
       " ('govern', 'JJ'),\n",
       " ('land', 'NN'),\n",
       " ('.', '.'),\n",
       " ('From', 'IN'),\n",
       " ('day', 'NN'),\n",
       " ('forward', 'RB'),\n",
       " (',', ','),\n",
       " (\"'s\", 'VBZ'),\n",
       " ('going', 'VBG'),\n",
       " ('America', 'NNP'),\n",
       " ('first', 'RB'),\n",
       " ('.', '.'),\n",
       " ('America', 'NNP'),\n",
       " ('first', 'RB'),\n",
       " ('.', '.'),\n",
       " ('Every', 'NNP'),\n",
       " ('decision', 'NN'),\n",
       " ('trade', 'NN'),\n",
       " (',', ','),\n",
       " ('taxes', 'NNS'),\n",
       " (',', ','),\n",
       " ('immigration', 'NN'),\n",
       " (',', ','),\n",
       " ('foreign', 'JJ'),\n",
       " ('affairs', 'NNS'),\n",
       " (',', ','),\n",
       " ('made', 'VBD'),\n",
       " ('benefit', 'JJ'),\n",
       " ('American', 'JJ'),\n",
       " ('workers', 'NNS'),\n",
       " ('American', 'JJ'),\n",
       " ('families', 'NNS'),\n",
       " ('.', '.'),\n",
       " ('We', 'PRP'),\n",
       " ('must', 'MD'),\n",
       " ('protect', 'VB'),\n",
       " ('borders', 'NNS'),\n",
       " ('ravages', 'JJ'),\n",
       " ('countries', 'NNS'),\n",
       " ('making', 'VBG'),\n",
       " ('products', 'NNS'),\n",
       " (',', ','),\n",
       " ('stealing', 'VBG'),\n",
       " ('companies', 'NNS'),\n",
       " (',', ','),\n",
       " ('destroying', 'VBG'),\n",
       " ('jobs', 'NNS'),\n",
       " ('.', '.'),\n",
       " ('Protection', 'NNP'),\n",
       " ('lead', 'JJ'),\n",
       " ('great', 'JJ'),\n",
       " ('prosperity', 'NN'),\n",
       " ('strength', 'NN'),\n",
       " ('.', '.'),\n",
       " ('I', 'PRP'),\n",
       " ('fight', 'VBP'),\n",
       " ('every', 'DT'),\n",
       " ('breath', 'NN'),\n",
       " ('body', 'NN'),\n",
       " (',', ','),\n",
       " ('I', 'PRP'),\n",
       " ('never', 'RB'),\n",
       " (',', ','),\n",
       " ('ever', 'RB'),\n",
       " ('let', 'VB'),\n",
       " ('.', '.'),\n",
       " ('America', 'NNP'),\n",
       " ('start', 'NN'),\n",
       " ('winning', 'NN'),\n",
       " (',', ','),\n",
       " ('winning', 'VBG'),\n",
       " ('like', 'IN'),\n",
       " ('never', 'RB'),\n",
       " ('.', '.'),\n",
       " ('We', 'PRP'),\n",
       " ('bring', 'VBP'),\n",
       " ('back', 'RB'),\n",
       " ('jobs', 'NNS'),\n",
       " ('.', '.'),\n",
       " ('We', 'PRP'),\n",
       " ('bring', 'VBP'),\n",
       " ('back', 'RP'),\n",
       " ('borders', 'NNS'),\n",
       " ('.', '.'),\n",
       " ('We', 'PRP'),\n",
       " ('bring', 'VBP'),\n",
       " ('back', 'RP'),\n",
       " ('wealth', 'NN'),\n",
       " ('.', '.'),\n",
       " ('And', 'CC'),\n",
       " ('bring', 'VB'),\n",
       " ('back', 'RB'),\n",
       " ('dreams', 'NNS'),\n",
       " ('.', '.'),\n",
       " ('We', 'PRP'),\n",
       " ('build', 'VBP'),\n",
       " ('new', 'JJ'),\n",
       " ('roads', 'NNS'),\n",
       " ('highways', 'NNS'),\n",
       " ('bridges', 'NNS'),\n",
       " ('airports', 'NNS'),\n",
       " ('tunnels', 'NNS'),\n",
       " ('railways', 'NNS'),\n",
       " ('across', 'IN'),\n",
       " ('wonderful', 'JJ'),\n",
       " ('Nation', 'NN'),\n",
       " ('.', '.'),\n",
       " ('We', 'PRP'),\n",
       " ('get', 'VBP'),\n",
       " ('people', 'NNS'),\n",
       " ('welfare', 'VBP'),\n",
       " ('back', 'RB'),\n",
       " ('work', 'NN'),\n",
       " (',', ','),\n",
       " ('rebuilding', 'VBG'),\n",
       " ('country', 'NN'),\n",
       " ('American', 'JJ'),\n",
       " ('hands', 'NNS'),\n",
       " ('American', 'JJ'),\n",
       " ('labor', 'NN'),\n",
       " ('.', '.'),\n",
       " ('We', 'PRP'),\n",
       " ('follow', 'VBP'),\n",
       " ('two', 'CD'),\n",
       " ('simple', 'JJ'),\n",
       " ('rules', 'NNS'),\n",
       " (':', ':'),\n",
       " ('Buy', 'VB'),\n",
       " ('American', 'JJ'),\n",
       " ('hire', 'NN'),\n",
       " ('American', 'JJ'),\n",
       " ('.', '.'),\n",
       " ('We', 'PRP'),\n",
       " ('seek', 'VBP'),\n",
       " ('friendship', 'RB'),\n",
       " ('good', 'JJ'),\n",
       " ('nations', 'NNS'),\n",
       " ('world', 'NN'),\n",
       " (',', ','),\n",
       " ('understanding', 'VBG'),\n",
       " ('right', 'JJ'),\n",
       " ('nations', 'NNS'),\n",
       " ('put', 'VBD'),\n",
       " ('interests', 'NNS'),\n",
       " ('first', 'RB'),\n",
       " ('.', '.'),\n",
       " ('We', 'PRP'),\n",
       " ('seek', 'VBP'),\n",
       " ('impose', 'JJ'),\n",
       " ('way', 'NN'),\n",
       " ('life', 'NN'),\n",
       " ('anyone', 'NN'),\n",
       " (',', ','),\n",
       " ('rather', 'RB'),\n",
       " ('let', 'VB'),\n",
       " ('shine', 'VB'),\n",
       " ('exampleâ\\x80\\x94we', 'VB'),\n",
       " ('shineâ\\x80\\x94for', 'JJ'),\n",
       " ('everyone', 'NN'),\n",
       " ('follow', 'NN'),\n",
       " ('.', '.'),\n",
       " ('We', 'PRP'),\n",
       " ('reinforce', 'VBP'),\n",
       " ('old', 'JJ'),\n",
       " ('alliances', 'NNS'),\n",
       " ('form', 'VBP'),\n",
       " ('new', 'JJ'),\n",
       " ('ones', 'NNS'),\n",
       " ('unite', 'RB'),\n",
       " ('civilized', 'VBD'),\n",
       " ('world', 'NN'),\n",
       " ('radical', 'JJ'),\n",
       " ('Islamic', 'NNP'),\n",
       " ('terrorism', 'NN'),\n",
       " (',', ','),\n",
       " ('eradicate', 'VBP'),\n",
       " ('completely', 'RB'),\n",
       " ('face', 'JJ'),\n",
       " ('Earth', 'NNP'),\n",
       " ('.', '.'),\n",
       " ('At', 'IN'),\n",
       " ('bedrock', 'NN'),\n",
       " ('politics', 'NNS'),\n",
       " ('total', 'JJ'),\n",
       " ('allegiance', 'NN'),\n",
       " ('United', 'NNP'),\n",
       " ('States', 'NNPS'),\n",
       " ('America', 'NNP'),\n",
       " (',', ','),\n",
       " ('loyalty', 'NN'),\n",
       " ('country', 'NN'),\n",
       " (',', ','),\n",
       " ('rediscover', 'VB'),\n",
       " ('loyalty', 'NN'),\n",
       " ('.', '.'),\n",
       " ('When', 'WRB'),\n",
       " ('open', 'JJ'),\n",
       " ('heart', 'NN'),\n",
       " ('patriotism', 'NN'),\n",
       " (',', ','),\n",
       " ('room', 'NN'),\n",
       " ('prejudice', 'NN'),\n",
       " ('.', '.'),\n",
       " ('The', 'DT'),\n",
       " ('Bible', 'JJ'),\n",
       " ('tells', 'NNS'),\n",
       " ('us', 'PRP'),\n",
       " (',', ','),\n",
       " ('``', '``'),\n",
       " ('How', 'WRB'),\n",
       " ('good', 'JJ'),\n",
       " ('pleasant', 'NN'),\n",
       " ('God', 'NNP'),\n",
       " (\"'s\", 'POS'),\n",
       " ('people', 'NNS'),\n",
       " ('live', 'VBP'),\n",
       " ('together', 'RB'),\n",
       " ('unity', 'NN'),\n",
       " ('.', '.'),\n",
       " ('``', '``'),\n",
       " ('We', 'PRP'),\n",
       " ('must', 'MD'),\n",
       " ('speak', 'VB'),\n",
       " ('minds', 'NNS'),\n",
       " ('openly', 'RB'),\n",
       " (',', ','),\n",
       " ('debate', 'NN'),\n",
       " ('disagreements', 'NNS'),\n",
       " ('honestly', 'RB'),\n",
       " (',', ','),\n",
       " ('always', 'RB'),\n",
       " ('pursue', 'VB'),\n",
       " ('solidarity', 'NN'),\n",
       " ('.', '.'),\n",
       " ('When', 'WRB'),\n",
       " ('America', 'NNP'),\n",
       " ('united', 'VBD'),\n",
       " (',', ','),\n",
       " ('America', 'NNP'),\n",
       " ('totally', 'RB'),\n",
       " ('unstoppable', 'JJ'),\n",
       " ('.', '.'),\n",
       " ('There', 'EX'),\n",
       " ('fear', 'JJ'),\n",
       " (':', ':'),\n",
       " ('We', 'PRP'),\n",
       " ('protected', 'VBD'),\n",
       " (',', ','),\n",
       " ('always', 'RB'),\n",
       " ('protected', 'VBN'),\n",
       " ('.', '.'),\n",
       " ('We', 'PRP'),\n",
       " ('protected', 'VBD'),\n",
       " ('great', 'JJ'),\n",
       " ('men', 'NNS'),\n",
       " ('women', 'NNS'),\n",
       " ('military', 'JJ'),\n",
       " ('law', 'NN'),\n",
       " ('enforcement', 'NN'),\n",
       " (',', ','),\n",
       " ('importantly', 'RB'),\n",
       " (',', ','),\n",
       " ('protected', 'VBD'),\n",
       " ('God', 'NNP'),\n",
       " ('.', '.'),\n",
       " ('Finally', 'NNP'),\n",
       " (',', ','),\n",
       " ('must', 'MD'),\n",
       " ('think', 'VB'),\n",
       " ('big', 'JJ'),\n",
       " ('dream', 'NN'),\n",
       " ('even', 'RB'),\n",
       " ('bigger', 'JJR'),\n",
       " ('.', '.'),\n",
       " ('In', 'IN'),\n",
       " ('America', 'NNP'),\n",
       " (',', ','),\n",
       " ('understand', 'JJ'),\n",
       " ('nation', 'NN'),\n",
       " ('living', 'NN'),\n",
       " ('long', 'RB'),\n",
       " ('striving', 'VBG'),\n",
       " ('.', '.'),\n",
       " ('We', 'PRP'),\n",
       " ('longer', 'RBR'),\n",
       " ('accept', 'VB'),\n",
       " ('politicians', 'NNS'),\n",
       " ('talk', 'VB'),\n",
       " ('action', 'NN'),\n",
       " (',', ','),\n",
       " ('constantly', 'RB'),\n",
       " ('complaining', 'VBG'),\n",
       " (',', ','),\n",
       " ('never', 'RB'),\n",
       " ('anything', 'NN'),\n",
       " ('.', '.'),\n",
       " ('The', 'DT'),\n",
       " ('time', 'NN'),\n",
       " ('empty', 'JJ'),\n",
       " ('talk', 'NN'),\n",
       " ('.', '.'),\n",
       " ('Now', 'RB'),\n",
       " ('arrives', 'VBZ'),\n",
       " ('hour', 'NN'),\n",
       " ('action', 'NN'),\n",
       " ('.', '.'),\n",
       " ('Do', 'VB'),\n",
       " ('allow', 'VB'),\n",
       " ('anyone', 'NN'),\n",
       " ('tell', 'NN'),\n",
       " ('done', 'VBN'),\n",
       " ('.', '.'),\n",
       " ('No', 'DT'),\n",
       " ('challenge', 'NN'),\n",
       " ('match', 'VB'),\n",
       " ('heart', 'NN'),\n",
       " ('fight', 'NN'),\n",
       " ('spirit', 'NN'),\n",
       " ('America', 'NNP'),\n",
       " ('.', '.'),\n",
       " ('We', 'PRP'),\n",
       " ('fail', 'VBP'),\n",
       " ('.', '.'),\n",
       " ('Our', 'PRP$'),\n",
       " ('country', 'NN'),\n",
       " ('thrive', 'JJ'),\n",
       " ('prosper', 'NN'),\n",
       " ('.', '.'),\n",
       " ('We', 'PRP'),\n",
       " ('stand', 'VBP'),\n",
       " ('birth', 'JJ'),\n",
       " ('new', 'JJ'),\n",
       " ('millennium', 'NN'),\n",
       " (',', ','),\n",
       " ('ready', 'JJ'),\n",
       " ('unlock', 'NN'),\n",
       " ('mysteries', 'NNS'),\n",
       " ('space', 'NN'),\n",
       " (',', ','),\n",
       " ('free', 'JJ'),\n",
       " ('Earth', 'NN'),\n",
       " ('miseries', 'NNS'),\n",
       " ('disease', 'NN'),\n",
       " (',', ','),\n",
       " ('harness', 'NN'),\n",
       " ('energies', 'NNS'),\n",
       " (',', ','),\n",
       " ('industries', 'NNS'),\n",
       " (',', ','),\n",
       " ('technologies', 'NNS'),\n",
       " ('tomorrow', 'NN'),\n",
       " ('.', '.'),\n",
       " ('A', 'DT'),\n",
       " ('new', 'JJ'),\n",
       " ('national', 'JJ'),\n",
       " ('pride', 'NN'),\n",
       " ('stir', 'NN'),\n",
       " ('souls', 'NNS'),\n",
       " (',', ','),\n",
       " ('lift', 'NN'),\n",
       " ('sights', 'NNS'),\n",
       " (',', ','),\n",
       " ('heal', 'JJ'),\n",
       " ('divisions', 'NNS'),\n",
       " ('.', '.'),\n",
       " ('It', 'PRP'),\n",
       " (\"'s\", 'VBZ'),\n",
       " ('time', 'NN'),\n",
       " ('remember', 'VB'),\n",
       " ('old', 'JJ'),\n",
       " ('wisdom', 'NN'),\n",
       " ('soldiers', 'NNS'),\n",
       " ('never', 'RB'),\n",
       " ('forget', 'VBP'),\n",
       " (':', ':'),\n",
       " ('whether', 'IN'),\n",
       " ('Black', 'NNP'),\n",
       " ('Brown', 'NNP'),\n",
       " ('White', 'NNP'),\n",
       " (',', ','),\n",
       " ('bleed', 'NN'),\n",
       " ('red', 'JJ'),\n",
       " ('blood', 'NN'),\n",
       " ('patriots', 'NNS'),\n",
       " (',', ','),\n",
       " ('enjoy', 'VBP'),\n",
       " ('glorious', 'JJ'),\n",
       " ('freedoms', 'NNS'),\n",
       " (',', ','),\n",
       " ('salute', 'JJ'),\n",
       " ('great', 'JJ'),\n",
       " ('American', 'JJ'),\n",
       " ('flag', 'NN'),\n",
       " ('.', '.'),\n",
       " ('And', 'CC'),\n",
       " ('whether', 'IN'),\n",
       " ('child', 'NN'),\n",
       " ('born', 'VBN'),\n",
       " ('urban', 'JJ'),\n",
       " ('sprawl', 'NN'),\n",
       " ('Detroit', 'NNP'),\n",
       " ('windswept', 'NN'),\n",
       " ('plains', 'NNS'),\n",
       " ('Nebraska', 'NNP'),\n",
       " (',', ','),\n",
       " ('look', 'VB'),\n",
       " ('night', 'NN'),\n",
       " ('sky', 'NN'),\n",
       " (',', ','),\n",
       " ('fill', 'JJ'),\n",
       " ('heart', 'NN'),\n",
       " ('dreams', 'NNS'),\n",
       " (',', ','),\n",
       " ('infused', 'VBN'),\n",
       " ('breath', 'NN'),\n",
       " ('life', 'NN'),\n",
       " ('almighty', 'JJ'),\n",
       " ('Creator', 'NNP'),\n",
       " ('.', '.'),\n",
       " ('So', 'RB'),\n",
       " ('Americans', 'NNPS'),\n",
       " ('every', 'DT'),\n",
       " ('city', 'NN'),\n",
       " ('near', 'IN'),\n",
       " ('far', 'RB'),\n",
       " (',', ','),\n",
       " ('small', 'JJ'),\n",
       " ('large', 'JJ'),\n",
       " (',', ','),\n",
       " ('mountain', 'NN'),\n",
       " ('mountain', 'NN'),\n",
       " (',', ','),\n",
       " ('ocean', 'JJ'),\n",
       " ('ocean', 'NN'),\n",
       " (',', ','),\n",
       " ('hear', 'JJ'),\n",
       " ('words', 'NNS'),\n",
       " (':', ':'),\n",
       " ('You', 'PRP'),\n",
       " ('never', 'RB'),\n",
       " ('ignored', 'VBN'),\n",
       " ('.', '.'),\n",
       " ('Your', 'JJ'),\n",
       " ('voice', 'NN'),\n",
       " (',', ','),\n",
       " ('hopes', 'NNS'),\n",
       " (',', ','),\n",
       " ('dreams', 'NNS'),\n",
       " ('define', 'VBP'),\n",
       " ('American', 'JJ'),\n",
       " ('destiny', 'NN'),\n",
       " ('.', '.'),\n",
       " ('And', 'CC'),\n",
       " ('courage', 'NN'),\n",
       " ('goodness', 'NN'),\n",
       " ('love', 'VBP'),\n",
       " ('forever', 'RB'),\n",
       " ('guide', 'VBP'),\n",
       " ('us', 'PRP'),\n",
       " ('along', 'JJ'),\n",
       " ('way', 'NN'),\n",
       " ('.', '.'),\n",
       " ('Together', 'RB'),\n",
       " (',', ','),\n",
       " ('make', 'VB'),\n",
       " ('America', 'NNP'),\n",
       " ('strong', 'JJ'),\n",
       " ('.', '.'),\n",
       " ('We', 'PRP'),\n",
       " ('make', 'VBP'),\n",
       " ('America', 'NNP'),\n",
       " ('wealthy', 'NN'),\n",
       " ('.', '.'),\n",
       " ('We', 'PRP'),\n",
       " ('make', 'VBP'),\n",
       " ('America', 'NNP'),\n",
       " ('proud', 'NN'),\n",
       " ('.', '.'),\n",
       " ('We', 'PRP'),\n",
       " ('make', 'VBP'),\n",
       " ('America', 'NNP'),\n",
       " ('safe', 'JJ'),\n",
       " ('.', '.'),\n",
       " ('And', 'CC'),\n",
       " (',', ','),\n",
       " ('yes', 'UH'),\n",
       " (',', ','),\n",
       " ('together', 'RB'),\n",
       " (',', ','),\n",
       " ('make', 'VB'),\n",
       " ('America', 'NNP'),\n",
       " ('great', 'JJ'),\n",
       " ('.', '.'),\n",
       " ('Thank', 'NNP'),\n",
       " ('.', '.'),\n",
       " ('God', 'NNP'),\n",
       " ('bless', 'NN'),\n",
       " ...]"
      ]
     },
     "execution_count": 24,
     "metadata": {},
     "output_type": "execute_result"
    }
   ],
   "source": [
    "tokenized = word_tokenize(a)\n",
    "nltk.pos_tag(tokenized)"
   ]
  },
  {
   "cell_type": "code",
   "execution_count": 25,
   "metadata": {},
   "outputs": [],
   "source": [
    "def parts_of_speech(text_here):\n",
    "    tokenized = word_tokenize(text_here)\n",
    "    b = nltk.pos_tag(tokenized)\n",
    "    return b"
   ]
  },
  {
   "cell_type": "code",
   "execution_count": 36,
   "metadata": {},
   "outputs": [
    {
     "data": {
      "text/plain": [
       "[('Together', 'RB'),\n",
       " (',', ','),\n",
       " ('we', 'PRP'),\n",
       " ('will', 'MD'),\n",
       " ('determine', 'VB'),\n",
       " ('the', 'DT'),\n",
       " ('course', 'NN'),\n",
       " ('of', 'IN'),\n",
       " ('America', 'NNP'),\n",
       " ('and', 'CC'),\n",
       " ('the', 'DT'),\n",
       " ('world', 'NN'),\n",
       " ('for', 'IN'),\n",
       " ('many', 'JJ'),\n",
       " (',', ','),\n",
       " ('many', 'JJ'),\n",
       " ('years', 'NNS'),\n",
       " ('to', 'TO'),\n",
       " ('come', 'VB'),\n",
       " ('.', '.')]"
      ]
     },
     "execution_count": 36,
     "metadata": {},
     "output_type": "execute_result"
    }
   ],
   "source": [
    "parts_of_speech(ma)"
   ]
  },
  {
   "cell_type": "code",
   "execution_count": 27,
   "metadata": {},
   "outputs": [],
   "source": [
    "def POF_occurrence(text_here,tags):\n",
    "    p = parts_of_speech(text_here)\n",
    "    count =0\n",
    "    for i in p:\n",
    "        if i[1] == tags:\n",
    "            count=count+1\n",
    "    return count\n",
    "    \n",
    "       \n",
    "            "
   ]
  },
  {
   "cell_type": "code",
   "execution_count": 28,
   "metadata": {},
   "outputs": [
    {
     "data": {
      "text/plain": [
       "119"
      ]
     },
     "execution_count": 28,
     "metadata": {},
     "output_type": "execute_result"
    }
   ],
   "source": [
    "POF_occurrence(a,'JJ')"
   ]
  },
  {
   "cell_type": "code",
   "execution_count": 29,
   "metadata": {},
   "outputs": [],
   "source": [
    "import pandas as pd\n",
    "\n",
    "data = pd.read_csv(\"desktop/NewsData.csv\")"
   ]
  },
  {
   "cell_type": "code",
   "execution_count": 30,
   "metadata": {},
   "outputs": [],
   "source": [
    "data.head()\n",
    "\n",
    "h=data.shape[0]\n"
   ]
  },
  {
   "cell_type": "code",
   "execution_count": 31,
   "metadata": {},
   "outputs": [],
   "source": [
    "w_ordcount=[]\n",
    "for i in range(h):\n",
    "    y=data['Sentence(news)'][i]\n",
    "    k = count_words(y)\n",
    "    w_ordcount.append(k)\n",
    "\n",
    "   "
   ]
  },
  {
   "cell_type": "code",
   "execution_count": 37,
   "metadata": {},
   "outputs": [
    {
     "data": {
      "text/plain": [
       "'Together, we will determine the course of America and the world for many, many years to come.'"
      ]
     },
     "execution_count": 37,
     "metadata": {},
     "output_type": "execute_result"
    }
   ],
   "source": [
    "ma = sent_tokenize(trump_raw)[2]\n",
    "ma"
   ]
  },
  {
   "cell_type": "code",
   "execution_count": 34,
   "metadata": {},
   "outputs": [
    {
     "data": {
      "text/plain": [
       "2"
      ]
     },
     "execution_count": 34,
     "metadata": {},
     "output_type": "execute_result"
    }
   ],
   "source": [
    "POF_occurrence(ma,'JJ')"
   ]
  },
  {
   "cell_type": "code",
   "execution_count": null,
   "metadata": {},
   "outputs": [],
   "source": [
    "data['word_count'] = w_ordcount"
   ]
  },
  {
   "cell_type": "code",
   "execution_count": null,
   "metadata": {},
   "outputs": [],
   "source": [
    "data.head()"
   ]
  },
  {
   "cell_type": "code",
   "execution_count": null,
   "metadata": {},
   "outputs": [],
   "source": [
    " def sentence_words(x):\n",
    "     y =len(sent_tokenize(x))\n",
    "     return (y)"
   ]
  },
  {
   "cell_type": "code",
   "execution_count": null,
   "metadata": {},
   "outputs": [],
   "source": [
    "sentence_words(a)"
   ]
  },
  {
   "cell_type": "code",
   "execution_count": null,
   "metadata": {},
   "outputs": [],
   "source": [
    "sentence1count=[]\n",
    "uniq1=[]\n",
    "stop1=[]\n",
    "for i in range(h):\n",
    "    y=data['Sentence(news)'][i]\n",
    "    k = sentence_words(y)\n",
    "    f = unique_words(y)\n",
    "    s=stop_unique(y)\n",
    "    sentence1count.append(k)\n",
    "    uniq1.append(f)\n",
    "    stop1.append(s)\n",
    "    \n",
    "\n",
    "    "
   ]
  },
  {
   "cell_type": "code",
   "execution_count": null,
   "metadata": {},
   "outputs": [],
   "source": [
    "data['sentence_count'] = sentence1count\n"
   ]
  },
  {
   "cell_type": "code",
   "execution_count": null,
   "metadata": {},
   "outputs": [],
   "source": [
    "data['unique word'] = uniq1\n",
    "data['Unique wt stopwords'] = stop1"
   ]
  },
  {
   "cell_type": "code",
   "execution_count": null,
   "metadata": {},
   "outputs": [],
   "source": [
    "data.head()"
   ]
  },
  {
   "cell_type": "code",
   "execution_count": null,
   "metadata": {},
   "outputs": [],
   "source": []
  }
 ],
 "metadata": {
  "kernelspec": {
   "display_name": "Python 3",
   "language": "python",
   "name": "python3"
  },
  "language_info": {
   "codemirror_mode": {
    "name": "ipython",
    "version": 3
   },
   "file_extension": ".py",
   "mimetype": "text/x-python",
   "name": "python",
   "nbconvert_exporter": "python",
   "pygments_lexer": "ipython3",
   "version": "3.8.5"
  }
 },
 "nbformat": 4,
 "nbformat_minor": 4
}
